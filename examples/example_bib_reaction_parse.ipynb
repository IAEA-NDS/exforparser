{
 "cells": [
  {
   "cell_type": "markdown",
   "metadata": {},
   "source": [
    "## Disclaimer\n",
    "The repository is still under developments and not ready to use. It made\n",
    "public to share the progress between collaborators. \n",
    "\n",
    "## Currnt limitations\n",
    "Currently only dictionary, biblographic data, and list of reactions are converted\n",
    "and stored in the database on MongoDb culuster service. Note that the\n",
    "specification of JSON schema is under consideration, so please be\n",
    "informed that the data structure would be changed without any\n",
    "notifications.\n",
    "\n",
    "## Collections\n",
    "The name of collections, which is like a data table in the SQL database, are as follows.\n",
    "\n",
    "- dictiondef: dictionary index\n",
    "- dictionary: dictionary data\n",
    "- entry: biblographic data\n",
    "- data: data body (Simple translation from EXFOR to JSON. The\n",
    "  separation of dataset based on the pointer has taken into account.)\n",
    "- reaction_index: all reactions\n",
    "\n",
    "### Collection: dictionary and dictiondef\n",
    "For dictionary, please refere the information\n",
    "[here](https://github.com/shinokumura/exforparser/tree/main/dictionary).\n",
    "In this example, the retrieval examples of biblographic data and list of\n",
    "reactions will be explained. \n",
    "\n",
    "### Collection: entry\n",
    "The bibliographic data includes following information\n",
    "\n",
    "- title: string\n",
    "- entry_number: string\n",
    "- reference: array\n",
    "- authors: array\n",
    "- institutes: array\n",
    "- facilities: array\n",
    "- reactions: array\n",
    "- experimental_conditions: array\n",
    "\n",
    ", where ``experimental_conditions`` includes other meta data in the first\n",
    "SUBENTRY and ``reactions`` includes all reactions in the entire ENTRY,\n",
    "which are stored in the collection named ``entry``.\n",
    "\n",
    "\n",
    "### Collection: data\n",
    "The data includes following information. This is the direct and simple\n",
    "conversion from EXFOR to JSON. Only the dataset-wise separation based on the\n",
    "pointer is taken into account.\n",
    "\n",
    "- id: string (entry number + subentry number + pointer)\n",
    "- reaction: object\n",
    "- measurement_condition: object\n",
    "- common_data: array\n",
    "- data_table: array\n",
    "\n",
    ", where ``measurement_condition`` includes other meta data in this\n",
    "particular SUBENTRY, ``common_data`` and ``data_table`` include the\n",
    "datatable of COMMON and DATA blocks.\n",
    "\n",
    "\n",
    "### Collection: reaction_index\n",
    "The ``reaction_index`` collection composes of following columns. The column could be None\n",
    "or np.Nan either if the data parse was failed or simply there is no data.\n",
    "Temporary ``XX`` string is used for the pointer if no pointer is given.\n",
    "Note that the pointer coded only with REACTION is taken into account,\n",
    "since the pointer coded with other identifieres are meaningless in many cases.\n",
    "\n",
    "```\n",
    "        id  entry subentry pointer  year       author  min_inc_en  max_inc_en points     target     process            sf4       residual   sf5      sf6   sf7    sf8   sf9\n",
    "C0290009XX  C0290      009      XX  1981    R.A.Cecil   3.370e-04   3.370e-04      1   13-AL-27  10-NE-20,X         0-NN-1         0-NN-1  None    DA/DE  None   None  None\n",
    "E1773008XX  E1773      008      XX  2002     T.Wakasa   3.450e+02   3.450e+02      1   20-CA-40         P,X         0-NN-1         0-NN-1  None    DA/DE  None   None  None\n",
    "411280022   41128      002       2  1993 V.A.Anufriev         NaN         NaN      0  98-CF-250       N,TOT           None           None  None      WID  None   None  None\n",
    "E2617012XX  E2617      012      XX  2019     T.Murata   3.270e+01   5.040e+01     15    39-Y-89         A,X        39-Y-87        39-Y-87  None      SIG  None   None  None\n",
    "G0018003XX  G0018      003      XX  2010  Md.S.Rahman   5.000e+01   7.000e+01      3    49-IN-0         G,X  49-IN-111-G/M  49-IN-111-G/M  None  SIG/RAT  None    BRA  None\n",
    "21909005XX  21909      005      XX  1979   H.Yamamoto   1.450e+01   1.450e+01      1   92-U-238         N,F           MASS          A=110   SEC       FY  None   None  None\n",
    "E1434007XX  E1434      007      XX  1983  M.Takahashi   5.190e+01   5.190e+01      1  82-PB-208         P,T      82-PB-206      82-PB-206   PAR       DA  None   None  None\n",
    "D6158002XX  D6158      002      XX  2008   R.Tripathi   7.000e+01   1.000e+02    169    39-Y-89    9-F-19,X           ELEM              C  None       DA  None   None  None\n",
    " 120970097  12097      009       7  1960   H.B.Moller         NaN         NaN      0  64-GD-155       N,TOT           None           None  None      WID  None  SQ/S0  None\n",
    "O0920008XX  O0920      008      XX  2001   J.Kuhnhenn   6.660e+01   6.660e+01      1    82-PB-0         P,F    47-AG-110-M    47-AG-110-M   IND      SIG  None   None  None\n",
    "D0635002XX  D0635      002      XX  2003     W.Krolas   3.500e+02   3.500e+02      1  82-PB-208  28-NI-64,X      ELEM/MASS      47-Ag-110  None      SIG  None   None  None\n",
    "D0635002XX  D0635      002      XX  2003     W.Krolas   3.500e+02   3.500e+02      1  82-PB-208  28-NI-64,X      ELEM/MASS      82-Pb-199  None      SIG  None   None  None\n",
    "M06350212   M0635      021       2  2003 V.V.Varlamov   1.980e+01   2.760e+01     27    23-V-51        G,2N        23-V-49        23-V-49  None      SIG  None   None  EVAL\n",
    "```\n",
    "## Examples\n",
    "There are two ways to retrive data from MongoDb, (1) via MongoDb API and (2) via\n",
    "MongoClient Python package.\n",
    "\n",
    "### (1) via API\n",
    "First example is to retrive data via API that MongoDB culuster service naturally suports.\n",
    "In this way, user can retrive data either through Python code or curl\n",
    "command. There are two endpoints, ``action/findOne`` and\n",
    "``action/find``. Please refere the [MongoDb API\n",
    "reference](https://www.mongodb.com/docs/atlas/api/data-api-resources/)\n",
    "for details. First, import the libraries and url."
   ]
  },
  {
   "cell_type": "code",
   "execution_count": 15,
   "metadata": {},
   "outputs": [],
   "source": [
    "import requests\n",
    "import json\n",
    "import pandas as pd\n",
    "import sys\n",
    "sys.path.append(\"../\")\n",
    "from path import MONGOBASE_URI, API_KEY\n",
    "\n",
    "headers = {\n",
    "    'Content-Type': 'application/json',\n",
    "    'Access-Control-Request-Headers': '*',\n",
    "    'api-key': API_KEY\n",
    "}"
   ]
  },
  {
   "cell_type": "markdown",
   "metadata": {},
   "source": [
    "#### Example of the endpoint: POST /action/findOne"
   ]
  },
  {
   "cell_type": "code",
   "execution_count": null,
   "metadata": {},
   "outputs": [],
   "source": [
    "url = MONGOBASE_URI + \"action/findOne\"\n",
    "payload = json.dumps(\n",
    "    {\n",
    "        \"collection\": \"dictionary\",\n",
    "        \"database\": \"exfor\",\n",
    "        \"dataSource\": \"exparser\",\n",
    "        \"filter\": {\"diction_num\": \"21\"}, # METHOD\n",
    "        \"projection\": {\"_id\": 0, \"diction_num\": 1, \"diction_def\": 1, \"parameters\": 1},\n",
    "    }\n",
    ")\n",
    "response = requests.request(\"POST\", url, headers=headers, data=payload)\n",
    "print(json.dumps(response.json(), indent=1))"
   ]
  },
  {
   "cell_type": "code",
   "execution_count": null,
   "metadata": {},
   "outputs": [],
   "source": [
    "url = MONGOBASE_URI + \"action/findOne\"\n",
    "payload = json.dumps(\n",
    "    {\n",
    "        \"collection\": \"entry\",\n",
    "        \"database\": \"exfor\",\n",
    "        \"dataSource\": \"exparser\",\n",
    "        \"filter\": {\"entry_number\": \"22726\"}, # METHOD\n",
    "        \"projection\": {\"_id\": 0},\n",
    "    }\n",
    ")\n",
    "response = requests.request(\"POST\", url, headers=headers, data=payload)\n",
    "print(json.dumps(response.json(), indent=1))"
   ]
  },
  {
   "cell_type": "code",
   "execution_count": 53,
   "metadata": {},
   "outputs": [
    {
     "name": "stdout",
     "output_type": "stream",
     "text": [
      "     EN  DATA  DATA-ERR\n",
      "0   8.2  2.46      0.09\n",
      "1   9.8  2.60      0.09\n",
      "2  15.5  2.34      0.09\n",
      "3  17.0  2.34      0.09\n",
      "4  18.5  2.36      0.09\n"
     ]
    },
    {
     "data": {
      "image/png": "[encoded data removed]",
      "text/plain": [
       "<Figure size 432x288 with 1 Axes>"
      ]
     },
     "metadata": {
      "needs_background": "light"
     },
     "output_type": "display_data"
    }
   ],
   "source": [
    "import matplotlib.pyplot as plt\n",
    "\n",
    "url = MONGOBASE_URI + \"action/findOne\"\n",
    "payload = json.dumps(\n",
    "    {\n",
    "        \"collection\": \"data\",\n",
    "        \"database\": \"exfor\",\n",
    "        \"dataSource\": \"exparser\",\n",
    "        \"filter\": {\"id\": \"11793-006-XX\"}, # METHOD\n",
    "        \"projection\": {\n",
    "        \"_id\":0, \n",
    "         \"data_table.heads\":1, \n",
    "         \"data_table.units\":1, \n",
    "         \"data_table.data\":1\n",
    "        },\n",
    "    }\n",
    ")\n",
    "response = requests.request(\"POST\", url, headers=headers, data=payload)\n",
    "# print(json.dumps(response.json(), indent=1))\n",
    "d = response.json()[\"document\"][\"data_table\"]\n",
    "\n",
    "dict = {d[\"heads\"][i]: d[\"data\"][str(i)]  for i in range(len(d[\"heads\"]))}\n",
    "df = pd.DataFrame(dict,  index=None)\n",
    "print(df)\n",
    "\n",
    "df.plot(x =\"EN\", y=\"DATA\", kind=\"scatter\")\n",
    "plt.show()\n"
   ]
  },
  {
   "cell_type": "markdown",
   "metadata": {},
   "source": [
    "#### Example of the endpoint: POST /action/find"
   ]
  },
  {
   "cell_type": "code",
   "execution_count": null,
   "metadata": {},
   "outputs": [],
   "source": [
    "url = MONGOBASE_URI + \"action/find\"\n",
    "payload = json.dumps(\n",
    "    {\n",
    "        \"collection\": \"entry\",\n",
    "        \"database\": \"exfor\",\n",
    "        \"dataSource\": \"exparser\",\n",
    "        \"filter\": { \"entry_number\": \"E2542\"}\n",
    "    }\n",
    ")\n",
    "response = requests.request(\"POST\", url, headers=headers, data=payload)\n",
    "print(response.text)\n",
    "\n",
    "## store into dataframe\n",
    "# df = pd.DataFrame(list(response.json()))\n",
    "# print(df)"
   ]
  },
  {
   "cell_type": "code",
   "execution_count": null,
   "metadata": {},
   "outputs": [],
   "source": [
    "url = MONGOBASE_URI + \"action/find\"\n",
    "payload = json.dumps(\n",
    "    {\n",
    "        \"collection\": \"reaction_index\",\n",
    "        \"database\": \"exfor\",\n",
    "        \"dataSource\": \"exparser\",\n",
    "        # \"filter\": { \"entry\": {\"$eq\": \"G0071\"} },\n",
    "        \"filter\": { \"target\": {\"$eq\": \"48-CD-112\"}, \"process\": {\"$eq\": \"P,N\"} },\n",
    "        \"projection\": {\"_id\":0, \"id\":1, \"author\":1, \"year\":1, \"target\":1, \"process\":1, \"sf4\":1, \"residual\":1, \"max_inc_en\":1, \"points\":1}\n",
    "        # \"projection\": {\"_id\":0}\n",
    "    }\n",
    ")\n",
    "response = requests.request(\"POST\", url, headers=headers, data=payload)\n",
    "a = response.json()\n",
    "\n",
    "if a.get(\"error\"):\n",
    "    ## Since the could service is on the free area, you'll get an error when you query that takes long.\n",
    "    print(a)\n",
    "else:\n",
    "    ## this request returns data in { \"documents\": [] } format\n",
    "    df = pd.DataFrame(a[\"documents\"])\n",
    "    print(df)"
   ]
  },
  {
   "cell_type": "markdown",
   "metadata": {},
   "source": [
    "### (2) via MongoClient\n",
    "\n",
    "First, import the packages and establish the connection to MongoDb cloud service"
   ]
  },
  {
   "cell_type": "code",
   "execution_count": null,
   "metadata": {},
   "outputs": [],
   "source": [
    "import pandas as pd\n",
    "import plotly.express as px\n",
    "from pymongo import MongoClient\n",
    "import pymongo[srv]\n",
    "import json\n",
    "from path import DB_KEY\n",
    "\n",
    "client = MongoClient(\"mongodb+srv://\" + DB_KEY + \"@exparser.b4gi6.mongodb.net/exfor?retryWrites=true&w=majority\")\n",
    "db = client.exfor"
   ]
  },
  {
   "cell_type": "markdown",
   "metadata": {},
   "source": [
    "#### Example of db.collection.findOne()"
   ]
  },
  {
   "cell_type": "code",
   "execution_count": null,
   "metadata": {},
   "outputs": [],
   "source": [
    "## https://pymongo.readthedocs.io/en/stable/tutorial.html#getting-a-single-document-with-find-one/\n",
    "collection = db.dictionary\n",
    "one = collection.find_one({ \"diction_num\": \"21\"}, {\"_id\": 0, \"parameters\":1})\n",
    "for i in range(len(one[\"parameters\"])):\n",
    "    print(one[\"parameters\"][i])\n"
   ]
  },
  {
   "cell_type": "code",
   "execution_count": null,
   "metadata": {},
   "outputs": [],
   "source": [
    "## https://www.mongodb.com/docs/manual/reference/method/db.collection.find/\n",
    "## https://pymongo.readthedocs.io/en/stable/api/pymongo/collection.html?highlight=find()#pymongo.collection.Collection.find\n",
    "collection = db.reaction_index\n",
    "for x in collection.find(\n",
    "    {\"target\": { \"$eq\" : \"92-U-238\"},\n",
    "     \"process\": { \"$eq\" : \"N,TOT\"}},\n",
    "    {\"_id\":0, \"id\":1, \"author\":1, \"year\":1 }\n",
    "    # {}\n",
    "    ):\n",
    "    print(x)"
   ]
  }
 ],
 "metadata": {
  "interpreter": {
   "hash": "d7489da5880aadd458c94b6734ef4e94a12e75b0cc6cd760fc89afb50f81b93b"
  },
  "kernelspec": {
   "display_name": "Python 3.8.5 64-bit ('3.8.5')",
   "language": "python",
   "name": "python3"
  },
  "language_info": {
   "codemirror_mode": {
    "name": "ipython",
    "version": 3
   },
   "file_extension": ".py",
   "mimetype": "text/x-python",
   "name": "python",
   "nbconvert_exporter": "python",
   "pygments_lexer": "ipython3",
   "version": "3.8.5"
  },
  "orig_nbformat": 4
 },
 "nbformat": 4,
 "nbformat_minor": 2
}
